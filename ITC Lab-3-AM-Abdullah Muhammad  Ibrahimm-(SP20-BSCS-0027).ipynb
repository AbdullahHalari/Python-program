{
 "cells": [
  {
   "cell_type": "markdown",
   "metadata": {},
   "source": [
    "### ITC Lab 4: Control Structures in Python\n",
    "\n",
    "#### Student Name: Abdullah Muhammad Ibrahim \n",
    "#### Student Id: SP20-BSCS-0027\n",
    "#### Section: AM\n",
    "#### Date: 10/3/2020\n",
    "\n",
    "\n",
    "### Objective:\n",
    "Understanding the use of control structures in Python"
   ]
  },
  {
   "cell_type": "markdown",
   "metadata": {},
   "source": [
    "### Boolean Expressions:\n",
    "Boolean expressions are expressions containing logical operators and conditions. The output of a Boolean expression can either be TRUE or FALSE. \n",
    "For example, take a look at the following code:"
   ]
  },
  {
   "cell_type": "code",
   "execution_count": 1,
   "metadata": {},
   "outputs": [
    {
     "name": "stdout",
     "output_type": "stream",
     "text": [
      "False\n",
      "False\n",
      "True\n",
      "False\n",
      "False\n",
      "True\n"
     ]
    }
   ],
   "source": [
    "a = 6; b = 10\n",
    "print(a == 6)\n",
    "print(b!= 10)\n",
    "print(b > 10)\n",
    "print(a < 10)\n",
    "print(a == b)\n",
    "print(a > b)\n",
    "print(a < b)"
   ]
  },
  {
   "cell_type": "markdown",
   "metadata": {},
   "source": [
    "Now, we can also have a multitude of expressions joined together through logical operators. Three logical operators are used in most cases:\n",
    "1. OR\n",
    "2. AND\n",
    "3. NOT\n",
    "Take a look at the following example:"
   ]
  },
  {
   "cell_type": "code",
   "execution_count": 3,
   "metadata": {},
   "outputs": [
    {
     "name": "stdout",
     "output_type": "stream",
     "text": [
      "False\n",
      "True\n",
      "True\n",
      "True\n",
      "RESULTS FOR LOGICAL OPERATIONS\n",
      "False\n",
      "True\n",
      "False\n"
     ]
    }
   ],
   "source": [
    "var_1 = 45\n",
    "var_2 = \"MAJU_ITC\"\n",
    "var_3 = 54.3245\n",
    "\n",
    "\n",
    "print(type(var_1) == str)\n",
    "print(type(var_1) == int)\n",
    "print(type(var_3) == float)\n",
    "print(type(var_2) == str)\n",
    "\n",
    "print(\"RESULTS FOR LOGICAL OPERATIONS\")\n",
    "print((type(var_1) == str) and (type(var_1) == int))\n",
    "print((type(var_1) == str) or (type(var_1) == int))\n",
    "print(not(type(var_2) == str))"
   ]
  },
  {
   "cell_type": "markdown",
   "metadata": {},
   "source": [
    "### IF - ELSE Statements in Python\n",
    "\n",
    "The basic control structure in Python is the If-Else structure. If-else statements in Python work similarly to any other programming language. The program will check a given condition and perform according to it. The following example elaborates:"
   ]
  },
  {
   "cell_type": "code",
   "execution_count": 5,
   "metadata": {},
   "outputs": [
    {
     "name": "stdout",
     "output_type": "stream",
     "text": [
      "bye\n"
     ]
    }
   ],
   "source": [
    "x = 2\n",
    "if(x > 4):\n",
    "    print(\"Hello\")\n",
    "else:\n",
    "    print(\"bye\")"
   ]
  },
  {
   "cell_type": "markdown",
   "metadata": {},
   "source": [
    "### If-elif-else Statements\n",
    "\n",
    "If-elif-else conditions work when there are more than two possibilities for a given condition. For example, lets try the above code again with addition of elif statement:\n"
   ]
  },
  {
   "cell_type": "code",
   "execution_count": 9,
   "metadata": {},
   "outputs": [
    {
     "name": "stdout",
     "output_type": "stream",
     "text": [
      "No action\n"
     ]
    }
   ],
   "source": [
    "x = 1.5\n",
    "if(x  > 6):\n",
    "    print(\"Hello\")\n",
    "elif(x > 2 and x < 6):\n",
    "    print(\"Welcome\")\n",
    "elif(x > 1 and x < 2):\n",
    "    print(\"No action\")\n",
    "else:\n",
    "    print(\"bye\")"
   ]
  },
  {
   "cell_type": "markdown",
   "metadata": {},
   "source": [
    "#### Task 1:\n",
    "\n",
    "Create a grade predictor like the one created in Lab 2. In your code, simple hardcode any marks less than 100 and the code should be able to generate the right grade. Use the table mentioned in Lab 2 manual to set limits for grades."
   ]
  },
  {
   "cell_type": "code",
   "execution_count": 7,
   "metadata": {},
   "outputs": [
    {
     "name": "stdout",
     "output_type": "stream",
     "text": [
      "enter your marks76\n",
      "your grade is B-\n"
     ]
    }
   ],
   "source": [
    "marks = float(input (\"enter your marks\"))\n",
    "if(marks == 90):\n",
    "    print(\"your grade is A\")\n",
    "elif(marks < 90 and marks>=86):\n",
    "    print(\"your grade is A-\")\n",
    "    \n",
    "elif(marks <=85 and marks>=81):\n",
    "    print(\"your grade is B+\")\n",
    "    \n",
    "elif(marks <= 80 and marks>=77):\n",
    "    print(\"your grade is B\")\n",
    "    \n",
    "elif(marks <=76  and marks>=72):\n",
    "    print(\"your grade is B-\")\n",
    "    \n",
    "elif(marks <=71 and marks>=68):\n",
    "    print(\"your grade is C+\")\n",
    "    \n",
    "elif(marks <=67 and marks>=63):\n",
    "    print(\"your grade is C\")\n",
    "    \n",
    "elif(marks <=62 and marks>=58):\n",
    "    print(\"your grade is C-\")\n",
    "    \n",
    "elif(marks <=57 and marks>=54):\n",
    "    print(\"your grade is D+\")\n",
    "    \n",
    "elif(marks <=53 and marks>=50):\n",
    "    print(\"your grade is D\")\n",
    "    \n",
    "else: \n",
    "    print(\"your grade is F\")\n"
   ]
  },
  {
   "cell_type": "markdown",
   "metadata": {},
   "source": [
    "### While Loops\n",
    "Loops are used in any programming language to perform a repetitive task. THey make coding simpler and more efficient. Let's take an example. Suppose we need to print counting from 1 to 5. There are two ways to do it. Let's look at the longer approach first:\n"
   ]
  },
  {
   "cell_type": "code",
   "execution_count": 10,
   "metadata": {},
   "outputs": [
    {
     "name": "stdout",
     "output_type": "stream",
     "text": [
      "1\n",
      "2\n",
      "3\n",
      "4\n",
      "5\n"
     ]
    }
   ],
   "source": [
    "print(1)\n",
    "print(2)\n",
    "print(3)\n",
    "print(4)\n",
    "print(5)\n"
   ]
  },
  {
   "cell_type": "markdown",
   "metadata": {},
   "source": [
    "The second and the more appropriate way to it is through loops. We will use a while loop for this one:"
   ]
  },
  {
   "cell_type": "code",
   "execution_count": 11,
   "metadata": {},
   "outputs": [
    {
     "name": "stdout",
     "output_type": "stream",
     "text": [
      "0\n",
      "1\n",
      "2\n",
      "3\n",
      "4\n",
      "5\n",
      "6\n",
      "7\n",
      "8\n",
      "9\n",
      "10\n"
     ]
    }
   ],
   "source": [
    "a = 0;\n",
    "while (a<=10):\n",
    "    print(a)\n",
    "    a = a+1 # Incrementing the variable"
   ]
  },
  {
   "cell_type": "markdown",
   "metadata": {},
   "source": [
    "Hence, we can see how repetition can be avoided through looping. When working with while loops, it is importnat to understand that it works on a condition, for example, if the given condition is true, the loop will run. Once the loop ends, it will recheck the condition, if the condition is still true, it will run again, else it will skip the loop and jump forward. Lets' elaborate the above code again:\n"
   ]
  },
  {
   "cell_type": "code",
   "execution_count": 7,
   "metadata": {},
   "outputs": [
    {
     "name": "stdout",
     "output_type": "stream",
     "text": [
      "While loop example\n",
      "0\n",
      "1\n",
      "2\n",
      "3\n",
      "4\n",
      "5\n",
      "6\n",
      "7\n",
      "8\n",
      "9\n",
      "10\n",
      "Loop has ended\n"
     ]
    }
   ],
   "source": [
    "print(\"While loop example\")\n",
    "a = 0;\n",
    "while (a<=10):\n",
    "    print(a)\n",
    "    a = a+1 # Incrementing the variable\n",
    "print(\"Loop has ended\")  #This line will run only when the while loop has ended"
   ]
  },
  {
   "cell_type": "markdown",
   "metadata": {},
   "source": [
    "Since while loops run on the basis of a condition, they can be a good option to create password protected applications.\n",
    "\n",
    "#### Try for Yourself: \n",
    "If while loops run on conditions, can there be a possibility that the code keeps running forever. Try it for the above code and paste the code in the below section:\n"
   ]
  },
  {
   "cell_type": "code",
   "execution_count": null,
   "metadata": {},
   "outputs": [],
   "source": [
    "print(\"While loop example\")\n",
    "a = 0;\n",
    "while (a>=0):\n",
    "    print(a)\n",
    "    a = a+1 # Incrementing the variable\n",
    "print(\"Loop has ended\")  #This line will run only when the while loop has ended"
   ]
  },
  {
   "cell_type": "markdown",
   "metadata": {},
   "source": [
    "#### Task 2:\n",
    "Create a password protected calculator. The program should ask the user password. If correct, the program should move forward. After peforming one calculation, the program should ask if the user wants to continue or quit. If the user wishes to continue, the program should repeat the calculator program."
   ]
  },
  {
   "cell_type": "code",
   "execution_count": 5,
   "metadata": {},
   "outputs": [
    {
     "name": "stdout",
     "output_type": "stream",
     "text": [
      "enter a password dan1\n",
      "enter a number 7\n",
      "the total sum is  8.0\n",
      "the total subtraction is  6.0\n",
      "the total multiply is  7.0\n",
      "the total division is  7.0\n",
      "enter a number for addition,subs,multiply,division 0\n",
      "invalid number your total sum is 8.0\n",
      "invalid number your total substraction is 6.0\n",
      "invalid number your total multiplication is 7.0\n",
      "invalid number your total division is 7.0\n"
     ]
    }
   ],
   "source": [
    "password = str(input (\"enter a password \"))\n",
    "if(password ==\"dan1\"):\n",
    " num = float(input (\"enter a number \"))\n",
    "num_1 = 1 \n",
    "num_2 = 1\n",
    "num_3 = 1\n",
    "num_4 = 1\n",
    "\n",
    "while (num>0):\n",
    "    num_1 = num_1 + num\n",
    "    print(\"the total sum is \",num_1)\n",
    "    \n",
    "    num_2 = num - num_2\n",
    "    print(\"the total subtraction is \",num_2)\n",
    "    \n",
    "    num_3 = num * num_3\n",
    "    print(\"the total multiply is \",num_3)\n",
    "    \n",
    "    num_4 = num / num_4\n",
    "    print(\"the total division is \",num_4)\n",
    "    \n",
    "    num = float(input (\"enter a number for addition,subs,multiply,division \"))\n",
    "    \n",
    "    if(num==0):\n",
    "     print(\"invalid number your total sum is\",num_1)\n",
    "     print(\"invalid number your total substraction is\",num_2)\n",
    "     print(\"invalid number your total multiplication is\",num_3)\n",
    "     print(\"invalid number your total division is\",num_4)\n",
    "    \n",
    "\n",
    "    "
   ]
  },
  {
   "cell_type": "markdown",
   "metadata": {},
   "source": [
    "### For Loops in Python\n",
    "\n",
    "For loops are another source of looping structures. Unlike while loops, for loops run without a condition. They will always run for a specified number of times. Lets do the above code with a for loop this time:\n"
   ]
  },
  {
   "cell_type": "code",
   "execution_count": 13,
   "metadata": {},
   "outputs": [
    {
     "name": "stdout",
     "output_type": "stream",
     "text": [
      "0\n",
      "1\n",
      "2\n",
      "3\n",
      "4\n",
      "5\n",
      "6\n",
      "7\n",
      "8\n",
      "9\n",
      "The for loop has ended\n"
     ]
    }
   ],
   "source": [
    "for x in range(0,10):\n",
    "    print(x)\n",
    "print(\"The for loop has ended\")"
   ]
  },
  {
   "cell_type": "code",
   "execution_count": 14,
   "metadata": {},
   "outputs": [
    {
     "name": "stdout",
     "output_type": "stream",
     "text": [
      "23\n",
      "bag\n",
      "31.45\n",
      "MAJU\n"
     ]
    }
   ],
   "source": [
    "randomlist = [23,\"bag\",31.45,\"MAJU\"]\n",
    "for i in randomlist:\n",
    "    print(i)\n",
    "    "
   ]
  },
  {
   "cell_type": "markdown",
   "metadata": {},
   "source": [
    "### Task  3:\n",
    "The fibonacci series is a famous natural pattern discovered by an Italian mathematician Fibonacci. According to this pattern, the third number of a given sequence is the sum of the previous two. For example, the following sequence:\n",
    "\n",
    "2,4,6,10,16,26,42,....\n",
    "\n",
    "Write a program using for loops, that creates a fibonacci sequence from any two given numbers. Print at least 10 numbers in the sequence. The solution is easily available on the internet so copy pasting will lead to ZERO marks in the entire lab exercise. BE CAREFUL!"
   ]
  },
  {
   "cell_type": "code",
   "execution_count": 6,
   "metadata": {},
   "outputs": [
    {
     "name": "stdout",
     "output_type": "stream",
     "text": [
      "enter a number 2\n",
      "enter a number 4\n",
      "This Fibonacci sequence is : \n",
      "2  4  6  10  16  26  42  68  110  178  288  466  754  1220  1974  "
     ]
    }
   ],
   "source": [
    "num_1 = int (input (\"enter a number \"))\n",
    "num_2 = int (input (\"enter a number \"))\n",
    "ln = 15\n",
    "a = 0\n",
    "\n",
    "print(\"This Fibonacci sequence is : \")\n",
    "while a < ln:\n",
    "       print(num_1, end=\"  \")\n",
    "       b = num_1 + num_2\n",
    "       num_1 = num_2\n",
    "       num_2 = b\n",
    "       a += 1"
   ]
  },
  {
   "cell_type": "code",
   "execution_count": null,
   "metadata": {},
   "outputs": [],
   "source": []
  }
 ],
 "metadata": {
  "kernelspec": {
   "display_name": "Python 3",
   "language": "python",
   "name": "python3"
  },
  "language_info": {
   "codemirror_mode": {
    "name": "ipython",
    "version": 3
   },
   "file_extension": ".py",
   "mimetype": "text/x-python",
   "name": "python",
   "nbconvert_exporter": "python",
   "pygments_lexer": "ipython3",
   "version": "3.7.4"
  }
 },
 "nbformat": 4,
 "nbformat_minor": 2
}
