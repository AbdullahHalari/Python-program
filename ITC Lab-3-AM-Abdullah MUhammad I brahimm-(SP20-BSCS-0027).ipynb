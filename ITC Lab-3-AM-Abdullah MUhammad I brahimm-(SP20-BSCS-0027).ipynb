{
 "cells": [
  {
   "cell_type": "code",
   "execution_count": null,
   "metadata": {},
   "outputs": [],
   "source": []
  },
  {
   "cell_type": "code",
   "execution_count": null,
   "metadata": {},
   "outputs": [
    {
     "name": "stdout",
     "output_type": "stream",
     "text": [
      "Enter password: asd\n",
      "Enter first no: 2\n",
      "Enter second no: 2\n",
      "Addition is:  4.0\n",
      "Subtraction is:  0.0\n",
      "Multiplication 4.0\n",
      "Subtraction is:  1.0\n",
      "Enter password: asd\n",
      "Enter first no: 2\n",
      "Enter second no: 2\n",
      "Addition is:  4.0\n",
      "Subtraction is:  0.0\n",
      "Multiplication 4.0\n",
      "Subtraction is:  1.0\n"
     ]
    }
   ],
   "source": [
    "pswrd=str(input(\"Enter password: \"))\n",
    "a=float(input(\"Enter first no: \"))\n",
    "b=float(input(\"Enter second no: \"))\n",
    "while (pswrd==\"asd\"):\n",
    "    print(\"Addition is: \",a+b)\n",
    "    print(\"Subtraction is: \",a-b)\n",
    "    print(\"Multiplication\", a*b)\n",
    "    print(\"Subtraction is: \",a/b)\n",
    "    pswrd=str(input(\"Enter password: \"))\n",
    "    a=float(input(\"Enter first no: \"))\n",
    "    b=float(input(\"Enter second no: \"))\n",
    "print(\"Wrong Password\")"
   ]
  },
  {
   "cell_type": "code",
   "execution_count": null,
   "metadata": {},
   "outputs": [],
   "source": []
  }
 ],
 "metadata": {
  "kernelspec": {
   "display_name": "Python 3",
   "language": "python",
   "name": "python3"
  },
  "language_info": {
   "codemirror_mode": {
    "name": "ipython",
    "version": 3
   },
   "file_extension": ".py",
   "mimetype": "text/x-python",
   "name": "python",
   "nbconvert_exporter": "python",
   "pygments_lexer": "ipython3",
   "version": "3.7.4"
  }
 },
 "nbformat": 4,
 "nbformat_minor": 2
}