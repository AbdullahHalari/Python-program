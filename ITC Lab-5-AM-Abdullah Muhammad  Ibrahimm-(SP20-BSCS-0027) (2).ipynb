{
 "cells": [
  {
   "cell_type": "markdown",
   "metadata": {},
   "source": [
    "### Introduction to Computing Lab 5\n",
    "\n",
    "### Functions in Python\n",
    "#### Student Name: Abdullah Muhammad Ibrahim\n",
    "#### Student ID: SP20-BSCS-0027\n",
    "#### Date: 16/3/2020\n",
    "\n",
    "### Objective:\n",
    "To understand the basics of Functions in Python \n",
    "\n",
    "### Theory\n",
    "Functions are an important aspect of any programming language. A function is a block of code which only runs when it is called.\n",
    "You can pass data, known as parameters, into a function.\n",
    "A function can return data as a result.  Simply put, a function is a box which works on some given input after processing it in a predefined manner. It then gives the output according to the method. "
   ]
  },
  {
   "cell_type": "markdown",
   "metadata": {},
   "source": [
    "#### Defining a Function with Known Parameters"
   ]
  },
  {
   "cell_type": "markdown",
   "metadata": {},
   "source": [
    "Parameters or placeholders are values on which a function is performed. These are simply place where an input valeu will be stored and used for functional processing. The syntax for makign a function in Python is given below:\n"
   ]
  },
  {
   "cell_type": "code",
   "execution_count": null,
   "metadata": {},
   "outputs": [],
   "source": [
    "def function name(parameter1,parameter2,..):\n",
    "    function body \n",
    "    return value\n"
   ]
  },
  {
   "cell_type": "markdown",
   "metadata": {},
   "source": [
    "Note that there can be unlimited parameters in a function.\n",
    "The following example demonstrates the use of a simple function which performs mathematical operations.\n",
    "\n"
   ]
  },
  {
   "cell_type": "code",
   "execution_count": 2,
   "metadata": {},
   "outputs": [],
   "source": [
    "def maths(num1,num2,num3):\n",
    "    sol = num1*2 + num3/num2\n",
    "    return(sol)"
   ]
  },
  {
   "cell_type": "markdown",
   "metadata": {},
   "source": [
    "#### Calling a Function\n",
    "\n",
    "When we have to use a function, we call it simply by writing its name and then passing the reruied number of arguments. It is important to provide all the arguments or else the function will not work.\n",
    "Lets call the maths function that we created earlier:"
   ]
  },
  {
   "cell_type": "code",
   "execution_count": 3,
   "metadata": {},
   "outputs": [
    {
     "data": {
      "text/plain": [
       "20.52173913043478"
      ]
     },
     "execution_count": 3,
     "metadata": {},
     "output_type": "execute_result"
    }
   ],
   "source": [
    "maths(10,23,12)"
   ]
  },
  {
   "cell_type": "markdown",
   "metadata": {},
   "source": [
    "We can see the output value of the given values. Now we can perform the same calculation anywhere and as many times as we want simply by calling the function and passing the arguments. The following example illustrates:"
   ]
  },
  {
   "cell_type": "code",
   "execution_count": 4,
   "metadata": {},
   "outputs": [
    {
     "name": "stdout",
     "output_type": "stream",
     "text": [
      "37.333333333333336\n",
      "161.0\n",
      "18.5\n"
     ]
    }
   ],
   "source": [
    "print(maths(12,3,40))\n",
    "print(maths(56,2,98))\n",
    "print(maths(8,2,5))"
   ]
  },
  {
   "cell_type": "markdown",
   "metadata": {},
   "source": [
    "#### Task 1:\n",
    "Write a separate function for each of the following:\n",
    "1. Area of Rectangle\n",
    "2. Area of Triangle\n",
    "3. Area of Circle\n",
    "\n",
    "You can search for the formulae of each of the shapes to know eaxctly what and how many arguments will be required for the respective function.\n"
   ]
  },
  {
   "cell_type": "code",
   "execution_count": 1,
   "metadata": {},
   "outputs": [
    {
     "name": "stdout",
     "output_type": "stream",
     "text": [
      "Enter your choice:triangle\n",
      "enter height: 3\n",
      "enter base: 4\n",
      "The area of triangle is:  6.0\n"
     ]
    }
   ],
   "source": [
    "choice = str(input(\"Enter your choice:\"))\n",
    "if(choice=='triangle'):\n",
    " h = int(input(\"enter height: \"))\n",
    " b = int(input(\"enter base: \"))\n",
    " def triangle (h,b):\n",
    "    area = h*b/2\n",
    "    return(area)\n",
    " triangle(h,b)\n",
    " print(\"The area of triangle is: \",triangle(h,b))\n",
    "elif(choice=='rectangle'):\n",
    " w = int(input(\"enter width: \"))\n",
    " l = int(input(\"enter lenght: \"))\n",
    " def rectangle (w,l):\n",
    "    area = w*l\n",
    "    return(area)\n",
    " rectangle(w,l)\n",
    "\n",
    " print(\"The area of rectangle is: \",rectangle(w,l))\n",
    "elif(choice=='circle'):   \n",
    " a = int(input(\"enter radius: \"))\n",
    " \n",
    " def circle (a):\n",
    "    area = a*a*3.14\n",
    "    return(area)\n",
    " circle(a)\n",
    "    \n",
    " print(\"The area of circle is: \",circle(a))\n"
   ]
  },
  {
   "cell_type": "markdown",
   "metadata": {},
   "source": [
    "#### Task 2:\n",
    "Write a function that takes the name of the shape as input and then automatically calculates the output for the respective shape. For simplicity, you may write the function for triangle and rectangle because both the functions take base and height as input."
   ]
  },
  {
   "cell_type": "code",
   "execution_count": 4,
   "metadata": {},
   "outputs": [
    {
     "name": "stdout",
     "output_type": "stream",
     "text": [
      "Enter the name of shape: triangle\n",
      "Enter the value of height: 8\n",
      "Enter the value of base: 9\n",
      "The area of tringle is:  36.0\n"
     ]
    }
   ],
   "source": [
    "def shape():\n",
    "    shapename = input(\"Enter the name of shape: \")\n",
    "    \n",
    "    if shapename== \"rectangle\":\n",
    "        lenght = int(input(\"Enter the value of side: \"))\n",
    "        width = int(input(\"Enter the value of side: \"))\n",
    "        area = width*lenght\n",
    "        print(\"The area of rectangle is: \",area)\n",
    "    elif shapename == \"triangle\":\n",
    "        height = int(input(\"Enter the value of height: \"))\n",
    "        base = int(input(\"Enter the value of base: \"))\n",
    "        area = height*base/2\n",
    "        print(\"The area of tringle is: \",area)\n",
    "    else:\n",
    "        print (\" invalid shape\")\n",
    "shape()\n",
    "    "
   ]
  },
  {
   "cell_type": "markdown",
   "metadata": {},
   "source": [
    "#### Defining Functions with Unknown Number of Arguments\n",
    "Often, there can be situations wehre there might be unknown number of arguments in a function. In such a situation, we define the parameters by adding * before the arguments. Below is an example of a function that calculates the average of any given number of values:"
   ]
  },
  {
   "cell_type": "code",
   "execution_count": 3,
   "metadata": {},
   "outputs": [
    {
     "name": "stdout",
     "output_type": "stream",
     "text": [
      "12.0\n"
     ]
    }
   ],
   "source": [
    "def nums_avg(*nums):\n",
    "    x = sum(nums)\n",
    "    y = len(nums) # len is short for length\n",
    "    return(x/y)\n",
    "\n",
    "print(nums_avg(10,12,15,11))"
   ]
  },
  {
   "cell_type": "markdown",
   "metadata": {},
   "source": [
    "Another example shows how specific positions of sequences are used for mathematical calculations:\n"
   ]
  },
  {
   "cell_type": "code",
   "execution_count": 4,
   "metadata": {},
   "outputs": [
    {
     "name": "stdout",
     "output_type": "stream",
     "text": [
      "12\n"
     ]
    }
   ],
   "source": [
    "def func_1(*num):\n",
    "    return(num[5] + num[2])\n",
    "print(func_1(2,5,3,5,7,9))"
   ]
  },
  {
   "cell_type": "markdown",
   "metadata": {},
   "source": [
    "#### Task 3:\n",
    "Write a function, where the user can enter any number of names (string values) which they want. \n",
    "The function should return the character count for  the first, third and the fifth name.\n",
    "##### Bonus:\n",
    "Write your function in a way that it returns the character count for each name and also returns the name with the highest number of characters."
   ]
  },
  {
   "cell_type": "code",
   "execution_count": 5,
   "metadata": {},
   "outputs": [
    {
     "name": "stdout",
     "output_type": "stream",
     "text": [
      "Enter a list of names: abdullah ibrahim james newton einstein\n"
     ]
    },
    {
     "data": {
      "text/plain": [
       "(8, 5, 8)"
      ]
     },
     "execution_count": 5,
     "metadata": {},
     "output_type": "execute_result"
    }
   ],
   "source": [
    "def character():\n",
    " names = input(\"Enter a list of names: \")\n",
    " user = names.split()                      #split() convert a string into list\n",
    " return (len(user[0]),len(user[2]),len(user[4]))\n",
    "character()        "
   ]
  },
  {
   "cell_type": "markdown",
   "metadata": {},
   "source": [
    "### Bonus\n"
   ]
  },
  {
   "cell_type": "code",
   "execution_count": 9,
   "metadata": {},
   "outputs": [
    {
     "name": "stdout",
     "output_type": "stream",
     "text": [
      "Enter a list of names: Adil Akram  Ameer  Amjad   Anwar  Aqeel  Asad  Ashraf \n",
      "4\n",
      "5\n",
      "5\n",
      "5\n",
      "5\n",
      "5\n",
      "4\n",
      "6\n",
      "Ashraf\n"
     ]
    }
   ],
   "source": [
    "def character():\n",
    " names = input(\"Enter a list of names: \")\n",
    " users = names.split()                   #split() convert a string into list\n",
    " list = []\n",
    " max_len = -1\n",
    " name = \"\";\n",
    " for  user in  users:\n",
    "  print(len(user))\n",
    "  if (len(user) > max_len):\n",
    "    max_len = len(user)\n",
    "    name = user\n",
    "    \n",
    " print (name)\n",
    " \n",
    "character()    \n",
    " \n"
   ]
  }
 ],
 "metadata": {
  "kernelspec": {
   "display_name": "Python 3",
   "language": "python",
   "name": "python3"
  },
  "language_info": {
   "codemirror_mode": {
    "name": "ipython",
    "version": 3
   },
   "file_extension": ".py",
   "mimetype": "text/x-python",
   "name": "python",
   "nbconvert_exporter": "python",
   "pygments_lexer": "ipython3",
   "version": "3.7.4"
  }
 },
 "nbformat": 4,
 "nbformat_minor": 2
}
